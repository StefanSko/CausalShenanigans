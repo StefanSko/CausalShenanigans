{
 "cells": [
  {
   "metadata": {},
   "cell_type": "markdown",
   "source": "# The Curious Tale of a Distasteful Infidelity",
   "id": "4ab8dd3f0502f90e"
  },
  {
   "metadata": {},
   "cell_type": "markdown",
   "source": [
    "Ada barely finished her first coffee when she was alerted by a meeting invite appearing on her screen. \"Urgent: TasteMap User Satisfaction Review - Location Matching Issues.\" Sarah, the Product Owner, had scheduled an emergency meeting for 9 AM.\n",
    "\n",
    "8:53 AM.\n",
    "\n",
    "Three months into her role as Senior Data Analyst at TasteMap, Ada was still adjusting to these urgent meeting invites. But something about this one felt different.\n",
    "\n",
    "During her first months, Ada had managed to set up a monitoring system for business metrics with minimal engineering support — a side project she'd pushed through after numerous discussions. She opened the dashboard. All metrics were green. Had she missed something?\n",
    "\n",
    "8:58 AM: A notification popped up that Ben had started the meeting.\n",
    "\n",
    "Ben? The Director of Search? So far, she'd never had any direct contact with him. Her suspicion about this meeting deepened. Word around the office was that Ben had his eyes on the CTO position. His presence at this level of meeting was highly unusual.\n",
    "\n",
    "Ada took a few deep breaths before joining, waiting an extra moment in the hope she wouldn't be alone with Ben and forced into awkward small talk. When she finally clicked the link, she was relieved to see Rob already there. As the Staff Software Engineer responsible for search, his presence made sense—but the concern on his face didn't.\n",
    "\n",
    "Sarah joined. She did not spend much time with niceties and jumped straight into the topic:\n",
    "\n",
    "\"Thank you all for joining on such short notice,\" Sarah began tensely. \"We've just received the results from our user feedback survey. While users are generally satisfied with our cuisine matching, there's a significant issue with location relevance. In fact, it's emerged as the number one complaint in the survey.\"\n",
    "\n",
    "Sarah shared her screen and showed following plot:\n",
    "\n",
    "\n",
    "\n"
   ],
   "id": "d6f6904ee0098eb3"
  }
 ],
 "metadata": {
  "kernelspec": {
   "display_name": "Python 3",
   "language": "python",
   "name": "python3"
  },
  "language_info": {
   "codemirror_mode": {
    "name": "ipython",
    "version": 2
   },
   "file_extension": ".py",
   "mimetype": "text/x-python",
   "name": "python",
   "nbconvert_exporter": "python",
   "pygments_lexer": "ipython2",
   "version": "2.7.6"
  }
 },
 "nbformat": 4,
 "nbformat_minor": 5
}
